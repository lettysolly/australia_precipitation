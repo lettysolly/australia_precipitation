{
 "cells": [
  {
   "cell_type": "code",
   "execution_count": 3,
   "id": "f83c4f70",
   "metadata": {},
   "outputs": [],
   "source": [
    "# Imports + my helper functions\n",
    "\n",
    "import sys\n",
    "import os\n",
    "import netCDF4 as nc\n",
    "import numpy as np\n",
    "import pandas as pd\n",
    "from datetime import datetime\n",
    "import matplotlib.pyplot as plt\n",
    "import cartopy.crs as ccrs\n",
    "import cartopy.feature as cfeature\n",
    "\n",
    "sys.path.append('/home/563/ls7238/code/australia_precipitation/module')\n",
    "import helper_funcs"
   ]
  },
  {
   "cell_type": "code",
   "execution_count": 4,
   "id": "d8cae712",
   "metadata": {},
   "outputs": [],
   "source": [
    "# Compile list of station files\n",
    "\n",
    "base_dir = '/g/data/k10/dl6968/BoM_gauges/netcdf/30min_acc'  \n",
    "nc_files = []\n",
    "\n",
    "for root, dirs, files in os.walk(base_dir):\n",
    "    for file in files:\n",
    "        if file.endswith('.nc'):\n",
    "            nc_files.append(os.path.join(root, file))"
   ]
  },
  {
   "cell_type": "code",
   "execution_count": null,
   "id": "fc23c594",
   "metadata": {},
   "outputs": [],
   "source": [
    "# "
   ]
  }
 ],
 "metadata": {
  "kernelspec": {
   "display_name": "test",
   "language": "python",
   "name": "python3"
  },
  "language_info": {
   "codemirror_mode": {
    "name": "ipython",
    "version": 3
   },
   "file_extension": ".py",
   "mimetype": "text/x-python",
   "name": "python",
   "nbconvert_exporter": "python",
   "pygments_lexer": "ipython3",
   "version": "3.13.5"
  }
 },
 "nbformat": 4,
 "nbformat_minor": 5
}
