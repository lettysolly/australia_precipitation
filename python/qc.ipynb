{
 "cells": [
  {
   "cell_type": "code",
   "execution_count": 1,
   "id": "df2af49a",
   "metadata": {},
   "outputs": [
    {
     "data": {
      "text/plain": [
       "<module 'helper_funcs' from '/home/563/ls7238/code/australia_precipitation/module/helper_funcs.py'>"
      ]
     },
     "execution_count": 1,
     "metadata": {},
     "output_type": "execute_result"
    }
   ],
   "source": [
    "# Imports:\n",
    "\n",
    "import sys\n",
    "import os\n",
    "import xarray as xr\n",
    "import netCDF4 as nc\n",
    "import numpy as np\n",
    "import pandas as pd\n",
    "from datetime import datetime\n",
    "import matplotlib.pyplot as plt\n",
    "import matplotlib.dates as mdates\n",
    "import cartopy.crs as ccrs\n",
    "import cartopy.feature as cfeature\n",
    "import importlib\n",
    "import matplotlib.colors as mcolors\n",
    "from collections import Counter\n",
    "\n",
    "sys.path.append('/home/563/ls7238/code/australia_precipitation/module')\n",
    "import helper_funcs\n",
    "importlib.reload(helper_funcs)"
   ]
  },
  {
   "cell_type": "code",
   "execution_count": 2,
   "id": "16933942",
   "metadata": {},
   "outputs": [
    {
     "name": "stdout",
     "output_type": "stream",
     "text": [
      "<class 'netCDF4.Dataset'>\n",
      "root group (NETCDF4 data model, file format HDF5):\n",
      "    Record_identifier: st\n",
      "    Station_Number: 066037\n",
      "    Rainfall_district_code: 66\n",
      "    Station_Name: SYDNEY AIRPORT AMO                      \n",
      "    Station_opened(MM-YYYY): 01/1929\n",
      "    Station_closed(MM-YYYY):        \n",
      "    Latitude: -33.9465\n",
      "    Longitude: 151.1731\n",
      "    lat-lon_record_method: SURVEY         \n",
      "    State: NSW\n",
      "    Height_station(ABSL): 6.0\n",
      "    Height_barometer(ABSL):    5.0\n",
      "    WMO_Number: 94767\n",
      "    First_year: 1948\n",
      "    Lastest_year: 2024\n",
      "    Percentage_of_complete: 37\n",
      "    Percentage_of_Y: 0\n",
      "    Percentage_of_N: 100\n",
      "    Percentage_of_W: 0\n",
      "    Percentage_of_S: 0\n",
      "    Percentage_of_I: 0\n",
      "    EoR_indicator: #\n",
      "    author: Dongqi Lin (dongqi.lin@monash.edu)\n",
      "    dimensions(sizes): time(1328268)\n",
      "    variables(dimensions): int64 time(time), float64 prcp(time), <class 'str'> local_time(time), int64 aws_flag(time), float64 quality_flag(time), float64 prcp_inst(time)\n",
      "    groups: \n"
     ]
    }
   ],
   "source": [
    "# Pulling out capital city longest running stations for testing\n",
    "\n",
    "# ID: 066037\tName: SYDNEY AIRPORT AMO\n",
    "# ID: 086282\tName: MELBOURNE AIRPORT\n",
    "# ID: 014015\tName: DARWIN AIRPORT\n",
    "# ID: 040913\tName: BRISBANE\n",
    "# ID: 009225\tName: PERTH METRO\n",
    "# ID: 094029\tName: HOBART (ELLERSLIE ROAD)\n",
    "\n",
    "tester_stations = ['/g/data/k10/dl6968/BoM_gauges/netcdf/30min_inst/NSW/NSW_066037.nc', #0\n",
    "                        '/g/data/k10/dl6968/BoM_gauges/netcdf/30min_inst/VIC/VIC_086282.nc', #1\n",
    "                        '/g/data/k10/dl6968/BoM_gauges/netcdf/30min_inst/NT/NT_014015.nc',   #2\n",
    "                        '/g/data/k10/dl6968/BoM_gauges/netcdf/30min_inst/QLD/QLD_040913.nc',  #3\n",
    "                        '/g/data/k10/dl6968/BoM_gauges/netcdf/30min_inst/WA/WA_009225.nc',    #4\n",
    "                        '/g/data/k10/dl6968/BoM_gauges/netcdf/30min_inst/TAS/TAS_094029.nc']    #5\n",
    "\n",
    "print(nc.Dataset(tester_stations[0]))"
   ]
  },
  {
   "cell_type": "code",
   "execution_count": 3,
   "id": "6929a1a5",
   "metadata": {},
   "outputs": [],
   "source": [
    "metdf = helper_funcs.read_stations_metadata(tester_stations)"
   ]
  },
  {
   "cell_type": "code",
   "execution_count": 4,
   "id": "c9f14641",
   "metadata": {},
   "outputs": [
    {
     "data": {
      "text/html": [
       "<div>\n",
       "<style scoped>\n",
       "    .dataframe tbody tr th:only-of-type {\n",
       "        vertical-align: middle;\n",
       "    }\n",
       "\n",
       "    .dataframe tbody tr th {\n",
       "        vertical-align: top;\n",
       "    }\n",
       "\n",
       "    .dataframe thead th {\n",
       "        text-align: right;\n",
       "    }\n",
       "</style>\n",
       "<table border=\"1\" class=\"dataframe\">\n",
       "  <thead>\n",
       "    <tr style=\"text-align: right;\">\n",
       "      <th></th>\n",
       "      <th>Station Number</th>\n",
       "      <th>Station Name</th>\n",
       "      <th>State</th>\n",
       "      <th>Latitude</th>\n",
       "      <th>Longitude</th>\n",
       "      <th>Start Year</th>\n",
       "      <th>End Year</th>\n",
       "      <th>Percentage Complete (from file)</th>\n",
       "      <th>Record Length</th>\n",
       "    </tr>\n",
       "  </thead>\n",
       "  <tbody>\n",
       "    <tr>\n",
       "      <th>0</th>\n",
       "      <td>066037</td>\n",
       "      <td>SYDNEY AIRPORT AMO</td>\n",
       "      <td>NSW</td>\n",
       "      <td>-33.9465</td>\n",
       "      <td>151.1731</td>\n",
       "      <td>1948</td>\n",
       "      <td>2024</td>\n",
       "      <td>37</td>\n",
       "      <td>77</td>\n",
       "    </tr>\n",
       "    <tr>\n",
       "      <th>1</th>\n",
       "      <td>086282</td>\n",
       "      <td>MELBOURNE AIRPORT</td>\n",
       "      <td>VIC</td>\n",
       "      <td>-37.6654</td>\n",
       "      <td>144.8322</td>\n",
       "      <td>1970</td>\n",
       "      <td>2024</td>\n",
       "      <td>46</td>\n",
       "      <td>55</td>\n",
       "    </tr>\n",
       "    <tr>\n",
       "      <th>2</th>\n",
       "      <td>014015</td>\n",
       "      <td>DARWIN AIRPORT</td>\n",
       "      <td>NT</td>\n",
       "      <td>-12.4239</td>\n",
       "      <td>130.8925</td>\n",
       "      <td>1985</td>\n",
       "      <td>2024</td>\n",
       "      <td>63</td>\n",
       "      <td>40</td>\n",
       "    </tr>\n",
       "    <tr>\n",
       "      <th>3</th>\n",
       "      <td>040913</td>\n",
       "      <td>BRISBANE</td>\n",
       "      <td>QLD</td>\n",
       "      <td>-27.4808</td>\n",
       "      <td>153.0389</td>\n",
       "      <td>1999</td>\n",
       "      <td>2024</td>\n",
       "      <td>99</td>\n",
       "      <td>26</td>\n",
       "    </tr>\n",
       "    <tr>\n",
       "      <th>4</th>\n",
       "      <td>009225</td>\n",
       "      <td>PERTH METRO</td>\n",
       "      <td>WA</td>\n",
       "      <td>-31.9192</td>\n",
       "      <td>115.8728</td>\n",
       "      <td>1993</td>\n",
       "      <td>2024</td>\n",
       "      <td>95</td>\n",
       "      <td>32</td>\n",
       "    </tr>\n",
       "    <tr>\n",
       "      <th>5</th>\n",
       "      <td>094029</td>\n",
       "      <td>HOBART (ELLERSLIE ROAD)</td>\n",
       "      <td>TAS</td>\n",
       "      <td>-42.8897</td>\n",
       "      <td>147.3278</td>\n",
       "      <td>1994</td>\n",
       "      <td>2024</td>\n",
       "      <td>81</td>\n",
       "      <td>31</td>\n",
       "    </tr>\n",
       "  </tbody>\n",
       "</table>\n",
       "</div>"
      ],
      "text/plain": [
       "  Station Number             Station Name State  Latitude  Longitude  \\\n",
       "0         066037       SYDNEY AIRPORT AMO   NSW  -33.9465   151.1731   \n",
       "1         086282        MELBOURNE AIRPORT   VIC  -37.6654   144.8322   \n",
       "2         014015           DARWIN AIRPORT    NT  -12.4239   130.8925   \n",
       "3         040913                 BRISBANE   QLD  -27.4808   153.0389   \n",
       "4         009225              PERTH METRO    WA  -31.9192   115.8728   \n",
       "5         094029  HOBART (ELLERSLIE ROAD)   TAS  -42.8897   147.3278   \n",
       "\n",
       "   Start Year  End Year  Percentage Complete (from file)  Record Length  \n",
       "0        1948      2024                               37             77  \n",
       "1        1970      2024                               46             55  \n",
       "2        1985      2024                               63             40  \n",
       "3        1999      2024                               99             26  \n",
       "4        1993      2024                               95             32  \n",
       "5        1994      2024                               81             31  "
      ]
     },
     "execution_count": 4,
     "metadata": {},
     "output_type": "execute_result"
    }
   ],
   "source": [
    "metdf"
   ]
  },
  {
   "cell_type": "code",
   "execution_count": 5,
   "id": "a681ad2d",
   "metadata": {},
   "outputs": [],
   "source": [
    "# Function for calculating the completeness (%NaN) of a list of files:\n",
    "\n",
    "\n",
    "def calculate_completeness(file_list, varname=\"prcp_inst\"):\n",
    "    '''\n",
    "    Function calculates the percentage complete of a life of files by looking at the amount of non-NaN values in the file\n",
    "    Returns: a list of tuples, one for each station, containing the filepath, station ID, and % complete.\n",
    "    '''\n",
    "    # Inititialise list to store results in\n",
    "    results = []\n",
    "\n",
    "    for filepath in file_list:\n",
    "        ds = xr.open_dataset(filepath)\n",
    "\n",
    "        # just in case\n",
    "        ds = ds.sortby(\"time\")\n",
    "        station_id = getattr(ds, 'Station_Number')\n",
    "\n",
    "        # Count non-NaN values and all values\n",
    "        valid_count = ds[varname].count().item()\n",
    "        total_count = ds[varname].size\n",
    "        \n",
    "        # See how many of all values are Non-NaN\n",
    "        percent_complete = 100 * (valid_count / total_count)\n",
    "\n",
    "        # Add percent complete with corresponding file path and station id to results\n",
    "        results.append((filepath, station_id, percent_complete))\n",
    "\n",
    "        ds.close()\n",
    "\n",
    "    return results\n"
   ]
  },
  {
   "cell_type": "code",
   "execution_count": 7,
   "id": "2a4cf3ff",
   "metadata": {},
   "outputs": [
    {
     "name": "stdout",
     "output_type": "stream",
     "text": [
      "Station ID: 066037, percent complete: 36.12749836629355\n",
      "Station ID: 086282, percent complete: 45.3016170893658\n",
      "Station ID: 014015, percent complete: 61.2126563394953\n",
      "Station ID: 040913, percent complete: 98.65363120718682\n",
      "Station ID: 009225, percent complete: 93.81604725856691\n",
      "Station ID: 094029, percent complete: 73.63606545428041\n"
     ]
    }
   ],
   "source": [
    "before = calculate_completeness(tester_stations)\n",
    "for x in before:\n",
    "    print(f'Station ID: {x[1]}, percent complete: {x[2]}')"
   ]
  },
  {
   "cell_type": "code",
   "execution_count": 8,
   "id": "5a7d7abf",
   "metadata": {},
   "outputs": [],
   "source": [
    "\n",
    "def find_longest_consecutive(good_years):\n",
    "    \"\"\"\n",
    "    Helper function for check_completeness function\n",
    "    Finds start and end year of the longest run of True values\n",
    "    Arguments:\n",
    "    - good_years: pd.Series indexed by year, values True/False\n",
    "    Returns:\n",
    "    - best_start, best_end: integers (years) of the longest consecutive True run\n",
    "    \"\"\"\n",
    "    # List of actual years in df:\n",
    "    years = good_years.index.values\n",
    "    # True/false values for those years: (true when year is above 80% completeness)\n",
    "    mask = good_years.values\n",
    "\n",
    "    # Initialise counters:\n",
    "    best_start, best_end = None, None\n",
    "    current_start, current_end = None, None\n",
    "    max_len, current_len = 0, 0\n",
    "\n",
    "    # loop through the indicies for and the true/false values \n",
    "    for i, is_good in enumerate(mask):     \n",
    "        if is_good:                          #ie. if the year is true\n",
    "            if current_start is None:\n",
    "                current_start = years[i]\n",
    "                current_end = years[i]\n",
    "                current_len = 1\n",
    "            else:\n",
    "                # Check if current year is consecutive\n",
    "                if years[i] == current_end + 1:\n",
    "                    current_end = years[i]\n",
    "                    current_len += 1\n",
    "                else:\n",
    "                    # Gap detected → start new run\n",
    "                    current_start, current_end, current_len = years[i], years[i], 1\n",
    "\n",
    "            if current_len > max_len:\n",
    "                best_start, best_end = current_start, current_end\n",
    "                max_len = current_len\n",
    "        else:\n",
    "            current_start, current_end, current_len = None, None, 0\n",
    "\n",
    "    return best_start, best_end\n",
    "\n",
    "\n",
    "def check_completeness(station_files, output_dir=\"complete_stations\", completeness_threshold=0.8):\n",
    "    \"\"\"\n",
    "    Cleans station NetCDF files by keeping only the longest consecutive period\n",
    "    of years with sufficient completeness, and saves cleaned datasets.\n",
    "    \n",
    "    Arguments:\n",
    "    - station_files: list of paths to NetCDF files\n",
    "    - output_dir: directory to save cleaned NetCDF files\n",
    "    - completeness_threshold: minimum % of valid values per year\n",
    "    \"\"\"\n",
    "    os.makedirs(output_dir, exist_ok=True)\n",
    "\n",
    "    for file in station_files:\n",
    "        ds = xr.open_dataset(file)\n",
    "\n",
    "        # Count valid (non-NaN) entries per year\n",
    "        yearly_counts = ds['prcp_inst'].groupby('time.year').count()\n",
    "\n",
    "        # Total possible entries per year\n",
    "        yearly_totals = ds['time'].groupby('time.year').count()\n",
    "\n",
    "        # Fraction completeness\n",
    "        yearly_fraction = yearly_counts / yearly_totals\n",
    "\n",
    "        # Mark good years (≥ threshold)\n",
    "        good_years_da = yearly_fraction >= completeness_threshold\n",
    "        # Convert to pandas Series with year as index\n",
    "        good_years = good_years_da.to_series()  # now .index is the years\n",
    "\n",
    "        # Find longest consecutive period with helper function\n",
    "        start, end = find_longest_consecutive(good_years)\n",
    "        if start is None or end is None:\n",
    "            print(f\"No valid period found for {file}\")\n",
    "            ds.close()\n",
    "            continue\n",
    "\n",
    "        # Slice dataset for longest valid period\n",
    "        ds = ds.sortby(\"time\")\n",
    "        ds_good = ds.sel(time=slice(f\"{start}-01-01\", f\"{end}-12-31\"))\n",
    "\n",
    "        # Save cleaned dataset\n",
    "        station_name = os.path.basename(file).replace(\".nc\", \"\")\n",
    "        out_file = os.path.join(output_dir, f\"{station_name}_cleaned.nc\")\n",
    "        ds_good.to_netcdf(out_file)\n",
    "        ds.close()\n",
    "\n",
    "        print(f\"Saved {out_file} with period {start}-{end}\")\n"
   ]
  },
  {
   "cell_type": "code",
   "execution_count": 9,
   "id": "5523a584",
   "metadata": {},
   "outputs": [
    {
     "name": "stdout",
     "output_type": "stream",
     "text": [
      "Saved testing_complete_checker/NSW_066037_cleaned.nc with period 1998-2024\n",
      "Saved testing_complete_checker/VIC_086282_cleaned.nc with period 2000-2024\n",
      "Saved testing_complete_checker/NT_014015_cleaned.nc with period 2000-2024\n",
      "Saved testing_complete_checker/QLD_040913_cleaned.nc with period 1999-2024\n",
      "Saved testing_complete_checker/WA_009225_cleaned.nc with period 1996-2024\n",
      "Saved testing_complete_checker/TAS_094029_cleaned.nc with period 2003-2024\n"
     ]
    }
   ],
   "source": [
    "check_completeness(tester_stations, output_dir=\"testing_complete_checker\")"
   ]
  },
  {
   "cell_type": "code",
   "execution_count": 10,
   "id": "af30ddf2",
   "metadata": {},
   "outputs": [
    {
     "data": {
      "text/plain": [
       "['/home/563/ls7238/data/testing_complete_checker/NSW_066037_cleaned.nc',\n",
       " '/home/563/ls7238/data/testing_complete_checker/VIC_086282_cleaned.nc',\n",
       " '/home/563/ls7238/data/testing_complete_checker/NT_014015_cleaned.nc',\n",
       " '/home/563/ls7238/data/testing_complete_checker/QLD_040913_cleaned.nc',\n",
       " '/home/563/ls7238/data/testing_complete_checker/WA_009225_cleaned.nc',\n",
       " '/home/563/ls7238/data/testing_complete_checker/TAS_094029_cleaned.nc']"
      ]
     },
     "execution_count": 10,
     "metadata": {},
     "output_type": "execute_result"
    }
   ],
   "source": [
    "\n",
    "complete_testers = []\n",
    "for root, dirs, files in os.walk('/home/563/ls7238/data/testing_complete_checker'):\n",
    "    for file in files:\n",
    "        if file.endswith('.nc'):\n",
    "            complete_testers.append(os.path.join(root, file))\n",
    "\n",
    "complete_testers"
   ]
  },
  {
   "cell_type": "code",
   "execution_count": 11,
   "id": "3535d13c",
   "metadata": {},
   "outputs": [
    {
     "name": "stdout",
     "output_type": "stream",
     "text": [
      "Station ID: 066037, percent complete: 95.68791149266917\n",
      "Station ID: 086282, percent complete: 96.61333327134479\n",
      "Station ID: 014015, percent complete: 97.24510669952113\n",
      "Station ID: 040913, percent complete: 98.65363120718682\n",
      "Station ID: 009225, percent complete: 98.41437991321364\n",
      "Station ID: 094029, percent complete: 97.7750351582053\n"
     ]
    }
   ],
   "source": [
    "test = calculate_completeness(complete_testers)\n",
    "for x in test:\n",
    "    print(f'Station ID: {x[1]}, percent complete: {x[2]}')"
   ]
  },
  {
   "cell_type": "code",
   "execution_count": null,
   "id": "34db783c",
   "metadata": {},
   "outputs": [],
   "source": []
  },
  {
   "cell_type": "code",
   "execution_count": 17,
   "id": "2b2ab234",
   "metadata": {},
   "outputs": [
    {
     "data": {
      "image/png": "[encoded data removed]",
      "text/plain": [
       "<Figure size 640x480 with 1 Axes>"
      ]
     },
     "metadata": {},
     "output_type": "display_data"
    }
   ],
   "source": [
    "ds = xr.open_dataset(complete_testers[0])\n",
    "rain = ds['prcp_inst']\n",
    "time = ds['time']\n",
    "plt.scatter(time, rain)\n",
    "#print(rain.argmax())\n",
    "#print(qual[869093].values)\n",
    "ds.close()"
   ]
  }
 ],
 "metadata": {
  "kernelspec": {
   "display_name": "test",
   "language": "python",
   "name": "python3"
  },
  "language_info": {
   "codemirror_mode": {
    "name": "ipython",
    "version": 3
   },
   "file_extension": ".py",
   "mimetype": "text/x-python",
   "name": "python",
   "nbconvert_exporter": "python",
   "pygments_lexer": "ipython3",
   "version": "3.13.5"
  }
 },
 "nbformat": 4,
 "nbformat_minor": 5
}
