{
 "cells": [
  {
   "cell_type": "code",
   "execution_count": 2,
   "id": "7788c488-ffa4-42fa-9978-b6af9edcb44d",
   "metadata": {},
   "outputs": [],
   "source": [
    "import cartopy"
   ]
  },
  {
   "cell_type": "code",
   "execution_count": null,
   "id": "57f07d4a",
   "metadata": {},
   "outputs": [],
   "source": [
    "cartopy"
   ]
  },
  {
   "cell_type": "code",
   "execution_count": null,
   "id": "fffe0ce6-cbc2-41f5-879d-2c8f60f2cd38",
   "metadata": {},
   "outputs": [],
   "source": []
  }
 ],
 "metadata": {
  "kernelspec": {
   "display_name": "Python 3 (ipykernel)",
   "language": "python",
   "name": "python3"
  },
  "language_info": {
   "codemirror_mode": {
    "name": "ipython",
    "version": 3
   },
   "file_extension": ".py",
   "mimetype": "text/x-python",
   "name": "python",
   "nbconvert_exporter": "python",
   "pygments_lexer": "ipython3",
   "version": "3.9.2"
  }
 },
 "nbformat": 4,
 "nbformat_minor": 5
}
